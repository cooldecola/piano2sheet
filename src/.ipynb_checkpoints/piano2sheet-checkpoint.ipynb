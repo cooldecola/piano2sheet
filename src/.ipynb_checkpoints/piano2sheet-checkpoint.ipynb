{
 "cells": [
  {
   "cell_type": "code",
   "execution_count": 1,
   "metadata": {},
   "outputs": [],
   "source": [
    "from cv2 import cv2\n",
    "import numpy as np\n",
    "from matplotlib import pyplot as plt\n",
    "import statistics\n",
    "import mahotas\n",
    "import bisect\n",
    "import imutils"
   ]
  },
  {
   "cell_type": "code",
   "execution_count": 2,
   "metadata": {},
   "outputs": [],
   "source": [
    "# note class\n",
    "class Note: \n",
    "    def __init__(self, centroid_x, y_dot):\n",
    "        self.centroid_x = centroid_x\n",
    "        self.y_dot = y_dot\n",
    "\n",
    "# just  a function for printing images\n",
    "def display_img(title, img):\n",
    "    cv2.imshow(title, img)\n",
    "    cv2.waitKey(0)\n",
    "    cv2.destroyAllWindows()\n",
    "      \n",
    "# function for getting next note\n",
    "def getNextNote(first_note):\n",
    "    if \"#\" in first_note: \n",
    "        octave = first_note[2]\n",
    "        if first_note[:2] == \"A#\":\n",
    "            return (\"C#\" + octave)\n",
    "        elif first_note[:2] == \"C#\":\n",
    "            return (\"D#\" + octave)\n",
    "        elif first_note[:2] == \"D#\":\n",
    "            return (\"F#\" + octave)\n",
    "        elif first_note[:2] == \"F#\":\n",
    "            return (\"G#\" + octave)\n",
    "        elif first_note[:2] == \"G#\":\n",
    "            next_octave = int(octave) + 1\n",
    "            return (\"A#\" + str(next_octave))\n",
    "    \n",
    "    else: \n",
    "        octave = first_note[1]\n",
    "        if first_note[0] == \"A\":\n",
    "            return (\"B\" + octave)\n",
    "        elif first_note[0] == \"B\":\n",
    "            return (\"C\" + octave)\n",
    "        elif first_note[0] == \"C\":\n",
    "            return (\"D\" + octave)\n",
    "        elif first_note[0] == \"D\":\n",
    "            return (\"E\" + octave)\n",
    "        elif first_note[0] == \"E\":\n",
    "            return (\"F\" + octave)\n",
    "        elif first_note[0] == \"F\":\n",
    "            return (\"G\" + octave)\n",
    "        elif first_note[0] == \"G\":\n",
    "            next_octave = int(octave) + 1\n",
    "            return (\"A\" + str(next_octave))\n",
    "\n",
    "# function for doing connected components\n",
    "def connectedComponents(binarized_img, img, display_result):\n",
    "    connectivity = 1\n",
    "    output = cv2.connectedComponentsWithStats(binarized_img, connectivity, cv2.CV_32S)\n",
    "    num_labels = output[0]\n",
    "    labels = output[1]\n",
    "    stats = output[2]\n",
    "    centroids = output[3]\n",
    "\n",
    "    final_labels = []\n",
    "\n",
    "    output = img.copy()\n",
    "\n",
    "    for i in range(1, num_labels):\n",
    "        x = stats[i, cv2.CC_STAT_LEFT]\n",
    "        y = stats[i, cv2.CC_STAT_TOP]\n",
    "        w = stats[i, cv2.CC_STAT_WIDTH]\n",
    "        h = stats[i, cv2.CC_STAT_HEIGHT]\n",
    "        area = stats[i, cv2.CC_STAT_AREA]\n",
    "        (cX, cY) = centroids[i]\n",
    "        \n",
    "        if (100 < area < np.inf):\n",
    "            final_labels.append([i,cX])\n",
    "            \n",
    "            if (display_result):\n",
    "                cv2.rectangle(output, (x,y), (x+w, y+h), (255,0,0),1)\n",
    "                cv2.circle(output, (int(cX), int(cY)), 4, (255,255,0), -1)\n",
    "                componentMask = (labels == i).astype(\"uint8\") * 255\n",
    "                cv2.imshow(\"Output\", output)\n",
    "                cv2.waitKey(0)\n",
    "\n",
    "    key_width = statistics.median(stats[:, cv2.CC_STAT_WIDTH])\n",
    "    cv2.destroyAllWindows()\n",
    "    return final_labels, key_width\n",
    "\n",
    "\n",
    "def displayCentroid(key_list, img):\n",
    "    y = img.shape[0]*3//4\n",
    "    for (note, centroid) in key_list: \n",
    "        font = cv2.FONT_HERSHEY_SIMPLEX\n",
    "        line = cv2.line(img,(int(centroid),0),(int(centroid),900),(0,0,255),1)\n",
    "        text_label = cv2.putText(img, note, (int(centroid), y), font, 0.5, (0,255,0), 1)\n",
    "        cv2.imshow(\"Key Label\", img)\n",
    "        cv2.waitKey(0)\n",
    "    cv2.destroyAllWindows()\n",
    "\n",
    "def key_pressed(key_list, key_index):\n",
    "    insertion_point = bisect.bisect_left(key_list[:,1].astype(float),key_index)\n",
    "    \n",
    "    #Insertion outside our index, means to insert it at the end (return the last key)\n",
    "    if insertion_point >= len(key_list):\n",
    "        insertion_point = len(key_list)-1\n",
    "#     print(insertion_point)\n",
    "#     print('You pressed the {} key.'.format(key_list[insertion_point,0]))\n",
    "\n",
    "    note = key_list[insertion_point,0]\n",
    "    index = insertion_point\n",
    "\n",
    "    return note, index\n"
   ]
  },
  {
   "cell_type": "markdown",
   "metadata": {},
   "source": [
    "## 1. Load image in"
   ]
  },
  {
   "cell_type": "markdown",
   "metadata": {},
   "source": [
    "Always start at the first frame - before ANY keys are clicked. This is because if a note is coloured on the keys themselves, our thresholding set-up doesn't work.\n",
    "\n",
    "**There is an issue when people have intros...**"
   ]
  },
  {
   "cell_type": "code",
   "execution_count": 3,
   "metadata": {
    "scrolled": false
   },
   "outputs": [
    {
     "data": {
      "image/png": "[encoded data removed]",
      "text/plain": [
       "<Figure size 432x288 with 1 Axes>"
      ]
     },
     "metadata": {
      "needs_background": "light"
     },
     "output_type": "display_data"
    }
   ],
   "source": [
    "#reading in image\n",
    "keys = cv2.imread(\"synthesia.png\")\n",
    "keys = keys[keys.shape[0]//2:,:]\n",
    "\n",
    "#grayscale\n",
    "gray_keys = cv2.cvtColor(keys, cv2.COLOR_BGR2GRAY)\n",
    "\n",
    "################################\n",
    "################# edge detection\n",
    "std_dev = 0\n",
    "k = 5\n",
    "t1 = 200\n",
    "t2 = 200\n",
    "blurred = cv2.GaussianBlur(gray_keys, (k,k), std_dev)\n",
    "edges = cv2.Canny(blurred, t1,t2, apertureSize = 3)\n",
    "\n",
    "################################\n",
    "################# hough transform \n",
    "lines = cv2.HoughLines(edges, 1, np.pi/180, 300) \n",
    "y_cord = [] #the y-value of the lines generated from hough transform\n",
    "\n",
    "#iterating through lines\n",
    "for line in lines: \n",
    "    rho, theta = line[0]\n",
    "    a = np.cos(theta)\n",
    "    b = np.sin(theta)\n",
    "    x0 = a * rho\n",
    "    y0 = b * rho\n",
    "    y_cord.append(y0) #appending to list\n",
    "\n",
    "#Only want to two lines from hough transform that crops out image of piano\n",
    "if (len(y_cord) > 2):\n",
    "    y_cord.sort(reverse=True)\n",
    "    y_cord.pop()\n",
    "\n",
    "#crop gray\n",
    "cropped_keys      = keys[int(y_cord[1])+20:int(y_cord[0])]\n",
    "cropped_gray_keys = gray_keys[int(y_cord[1])+20:int(y_cord[0])]\n",
    "\n",
    "################################\n",
    "################# thresholding\n",
    "_, th1 = cv2.threshold(cropped_gray_keys, 90, 150, cv2.THRESH_BINARY_INV)\n",
    "\n",
    "plt.imshow(keys)\n",
    "plt.axis('off')\n",
    "plt.show()"
   ]
  },
  {
   "cell_type": "code",
   "execution_count": 4,
   "metadata": {},
   "outputs": [
    {
     "data": {
      "image/png": "[encoded data removed]",
      "text/plain": [
       "<Figure size 720x720 with 1 Axes>"
      ]
     },
     "metadata": {
      "needs_background": "light"
     },
     "output_type": "display_data"
    }
   ],
   "source": [
    "plt.figure(figsize=(10,10))\n",
    "plt.imshow(th1, cmap = \"gray\")\n",
    "plt.show()"
   ]
  },
  {
   "cell_type": "markdown",
   "metadata": {},
   "source": [
    "# 2. Label Black Keys\n",
    "We don't need to do distance math anymore. If we detect 36 black keys, we know that the first black key is A#."
   ]
  },
  {
   "cell_type": "markdown",
   "metadata": {},
   "source": [
    "*final_labels* is the 36 integer indices that tell us if the returned centroids are black keys. \n",
    "\n",
    "For example, if centroids returns 39 possible connected components, final_label is the list of 36 indices that we consider are black keys."
   ]
  },
  {
   "cell_type": "markdown",
   "metadata": {},
   "source": [
    "## 1.1 Get the average width of a black key\n",
    "### Also get all balck key info (centroid etc)\n",
    "This will be used to determine the discrete range of each key."
   ]
  },
  {
   "cell_type": "code",
   "execution_count": 5,
   "metadata": {
    "scrolled": true
   },
   "outputs": [],
   "source": [
    "################################\n",
    "################# Connected Components (for black keys)\n",
    "#SWITCH TRUE TO FALSE IF YOU DONT WANT TO SHOW OUTPUT\n",
    "final_labels_bl, key_width_bl = connectedComponents(th1, cropped_keys, False)"
   ]
  },
  {
   "cell_type": "code",
   "execution_count": 6,
   "metadata": {
    "scrolled": false
   },
   "outputs": [
    {
     "data": {
      "text/plain": [
       "[['A#0', 13.98235294117647],\n",
       " ['C#0', 36.01754385964912],\n",
       " ['D#0', 50.94642857142857],\n",
       " ['F#0', 72.88414634146342],\n",
       " ['G#0', 86.00588235294117],\n",
       " ['A#1', 99.98830409356725],\n",
       " ['C#1', 122.01754385964912],\n",
       " ['D#1', 136.486301369863],\n",
       " ['F#1', 158.513698630137],\n",
       " ['G#1', 172.0],\n",
       " ['A#2', 185.98235294117646],\n",
       " ['C#2', 207.99418604651163],\n",
       " ['D#2', 222.486301369863],\n",
       " ['F#2', 244.513698630137],\n",
       " ['G#2', 258.0],\n",
       " ['A#3', 271.96449704142015],\n",
       " ['C#3', 293.97633136094674],\n",
       " ['D#3', 308.486301369863],\n",
       " ['F#3', 330.513698630137],\n",
       " ['G#3', 343.99411764705883],\n",
       " ['A#4', 357.486301369863],\n",
       " ['C#4', 379.5374149659864],\n",
       " ['D#4', 394.4761904761905],\n",
       " ['F#4', 416.513698630137],\n",
       " ['G#4', 430.0115606936416],\n",
       " ['A#5', 443.486301369863],\n",
       " ['C#5', 465.5034013605442],\n",
       " ['D#5', 480.486301369863],\n",
       " ['F#5', 502.513698630137],\n",
       " ['G#5', 516.0],\n",
       " ['A#6', 529.486301369863],\n",
       " ['C#6', 551.513698630137],\n",
       " ['D#6', 566.4896551724138],\n",
       " ['F#6', 588.513698630137],\n",
       " ['G#6', 601.9941176470588],\n",
       " ['A#7', 615.4761904761905]]"
      ]
     },
     "execution_count": 6,
     "metadata": {},
     "output_type": "execute_result"
    }
   ],
   "source": [
    "################################\n",
    "################# Labelling (for black keys)\n",
    "if len(final_labels_bl) == 36: \n",
    "    first_note = \"A#0\"\n",
    "    for i in range(36):\n",
    "        final_labels_bl[i][0] = first_note\n",
    "        first_note = getNextNote(first_note)\n",
    "\n",
    "sorted(final_labels_bl, key=lambda x: x[1])\n",
    "\n",
    "#just displaying to test\n",
    "# displayCentroid(final_labels_bl, keys)"
   ]
  },
  {
   "cell_type": "markdown",
   "metadata": {},
   "source": [
    "# 2. Label White Keys\n",
    "Testing white keys"
   ]
  },
  {
   "cell_type": "code",
   "execution_count": 7,
   "metadata": {},
   "outputs": [],
   "source": [
    "################################\n",
    "################# Connected Components (for white keys)\n",
    "k = 7\n",
    "blurred = cv2.GaussianBlur(cropped_gray_keys, (k,k), 0)\n",
    "T = mahotas.thresholding.otsu(blurred)*1.3\n",
    "th2 = cropped_gray_keys.copy()\n",
    "th2[th2>T] = 255\n",
    "th2[th2<T] = 0\n",
    "final_labels_w, key_width_w = connectedComponents(th2, cropped_keys, False)"
   ]
  },
  {
   "cell_type": "code",
   "execution_count": 8,
   "metadata": {},
   "outputs": [
    {
     "data": {
      "text/plain": [
       "[['A0', 5.538622129436326],\n",
       " ['B0', 19.376404494382022],\n",
       " ['C0', 30.05955334987593],\n",
       " ['D0', 43.19106699751861],\n",
       " ['E0', 56.28947368421053],\n",
       " ['F0', 66.7434554973822],\n",
       " ['G0', 79.96315789473684],\n",
       " ['A1', 92.35449735449735],\n",
       " ['B1', 105.37640449438203],\n",
       " ['C1', 116.05955334987593],\n",
       " ['D1', 129.19106699751862],\n",
       " ['E1', 142.28947368421052],\n",
       " ['F1', 152.7597911227154],\n",
       " ['G1', 165.80099502487562],\n",
       " ['A2', 178.35449735449737],\n",
       " ['B2', 191.37640449438203],\n",
       " ['C2', 202.0547263681592],\n",
       " ['D2', 215.15970515970517],\n",
       " ['E2', 227.96009975062344],\n",
       " ['F2', 238.7270341207349],\n",
       " ['G2', 251.80099502487562],\n",
       " ['A3', 264.3448275862069],\n",
       " ['B3', 277.2894736842105],\n",
       " ['C3', 287.7270341207349],\n",
       " ['D3', 301.16748768472905],\n",
       " ['E3', 313.9452736318408],\n",
       " ['F3', 324.7105263157895],\n",
       " ['G3', 337.80099502487565],\n",
       " ['A4', 350.3448275862069],\n",
       " ['B4', 363.2894736842105],\n",
       " ['C4', 374.0547263681592],\n",
       " ['D4', 387.0],\n",
       " ['E4', 399.9551122194514],\n",
       " ['F4', 410.7105263157895],\n",
       " ['G4', 423.79551122194516],\n",
       " ['A5', 436.3448275862069],\n",
       " ['B5', 448.9452736318408],\n",
       " ['C5', 459.7105263157895],\n",
       " ['D5', 473.0],\n",
       " ['E5', 485.9452736318408],\n",
       " ['F5', 496.7105263157895],\n",
       " ['G5', 509.6472148541114],\n",
       " ['A6', 522.3386243386243],\n",
       " ['B6', 534.9452736318408],\n",
       " ['C6', 545.7105263157895],\n",
       " ['D6', 558.9882903981264],\n",
       " ['E6', 571.9452736318408],\n",
       " ['F6', 582.7105263157895],\n",
       " ['G6', 595.6613756613757],\n",
       " ['A7', 608.3386243386243],\n",
       " ['B7', 620.9600997506234],\n",
       " ['C7', 632.5]]"
      ]
     },
     "execution_count": 8,
     "metadata": {},
     "output_type": "execute_result"
    }
   ],
   "source": [
    "################################\n",
    "################# Labelling (for white keys)\n",
    "if len(final_labels_w) == 52: \n",
    "    first_note = \"A0\"\n",
    "    for i in range(52):\n",
    "        final_labels_w[i][0] = first_note\n",
    "        first_note = getNextNote(first_note)\n",
    "\n",
    "sorted(final_labels_w, key=lambda x: x[1])\n",
    "\n",
    "#just displaying to test\n",
    "# displayCentroid(final_labels_w, keys)"
   ]
  },
  {
   "cell_type": "markdown",
   "metadata": {},
   "source": [
    "# 3. Assign Ranges\n",
    "Order both the white and black keys together. \n",
    "\n",
    "For the range x:0 -> end, we assign a specify range to each key. For example, A: 0 - 10, A#: 10 - 15.\n",
    "\n",
    "Our assumption is that the centroid of the key played will land in a discrete range with no overlap/ambiguity."
   ]
  },
  {
   "cell_type": "code",
   "execution_count": 9,
   "metadata": {},
   "outputs": [
    {
     "name": "stdout",
     "output_type": "stream",
     "text": [
      "[['A0' '5.538622129436326']\n",
      " ['A#0' '13.98235294117647']\n",
      " ['B0' '19.376404494382022']\n",
      " ['C0' '30.05955334987593']\n",
      " ['C#0' '36.01754385964912']\n",
      " ['D0' '43.19106699751861']\n",
      " ['D#0' '50.94642857142857']\n",
      " ['E0' '56.28947368421053']\n",
      " ['F0' '66.7434554973822']\n",
      " ['F#0' '72.88414634146342']\n",
      " ['G0' '79.96315789473684']\n",
      " ['G#0' '86.00588235294117']\n",
      " ['A1' '92.35449735449735']\n",
      " ['A#1' '99.98830409356725']\n",
      " ['B1' '105.37640449438203']\n",
      " ['C1' '116.05955334987593']\n",
      " ['C#1' '122.01754385964912']\n",
      " ['D1' '129.19106699751862']\n",
      " ['D#1' '136.486301369863']\n",
      " ['E1' '142.28947368421052']\n",
      " ['F1' '152.7597911227154']\n",
      " ['F#1' '158.513698630137']\n",
      " ['G1' '165.80099502487562']\n",
      " ['G#1' '172.0']\n",
      " ['A2' '178.35449735449737']\n",
      " ['A#2' '185.98235294117646']\n",
      " ['B2' '191.37640449438203']\n",
      " ['C2' '202.0547263681592']\n",
      " ['C#2' '207.99418604651163']\n",
      " ['D2' '215.15970515970517']\n",
      " ['D#2' '222.486301369863']\n",
      " ['E2' '227.96009975062344']\n",
      " ['F2' '238.7270341207349']\n",
      " ['F#2' '244.513698630137']\n",
      " ['G2' '251.80099502487562']\n",
      " ['G#2' '258.0']\n",
      " ['A3' '264.3448275862069']\n",
      " ['A#3' '271.96449704142015']\n",
      " ['B3' '277.2894736842105']\n",
      " ['C3' '287.7270341207349']\n",
      " ['C#3' '293.97633136094674']\n",
      " ['D3' '301.16748768472905']\n",
      " ['D#3' '308.486301369863']\n",
      " ['E3' '313.9452736318408']\n",
      " ['F3' '324.7105263157895']\n",
      " ['F#3' '330.513698630137']\n",
      " ['G3' '337.80099502487565']\n",
      " ['G#3' '343.99411764705883']\n",
      " ['A4' '350.3448275862069']\n",
      " ['A#4' '357.486301369863']\n",
      " ['B4' '363.2894736842105']\n",
      " ['C4' '374.0547263681592']\n",
      " ['C#4' '379.5374149659864']\n",
      " ['D4' '387.0']\n",
      " ['D#4' '394.4761904761905']\n",
      " ['E4' '399.9551122194514']\n",
      " ['F4' '410.7105263157895']\n",
      " ['F#4' '416.513698630137']\n",
      " ['G4' '423.79551122194516']\n",
      " ['G#4' '430.0115606936416']\n",
      " ['A5' '436.3448275862069']\n",
      " ['A#5' '443.486301369863']\n",
      " ['B5' '448.9452736318408']\n",
      " ['C5' '459.7105263157895']\n",
      " ['C#5' '465.5034013605442']\n",
      " ['D5' '473.0']\n",
      " ['D#5' '480.486301369863']\n",
      " ['E5' '485.9452736318408']\n",
      " ['F5' '496.7105263157895']\n",
      " ['F#5' '502.513698630137']\n",
      " ['G5' '509.6472148541114']\n",
      " ['G#5' '516.0']\n",
      " ['A6' '522.3386243386243']\n",
      " ['A#6' '529.486301369863']\n",
      " ['B6' '534.9452736318408']\n",
      " ['C6' '545.7105263157895']\n",
      " ['C#6' '551.513698630137']\n",
      " ['D6' '558.9882903981264']\n",
      " ['D#6' '566.4896551724138']\n",
      " ['E6' '571.9452736318408']\n",
      " ['F6' '582.7105263157895']\n",
      " ['F#6' '588.513698630137']\n",
      " ['G6' '595.6613756613757']\n",
      " ['G#6' '601.9941176470588']\n",
      " ['A7' '608.3386243386243']\n",
      " ['A#7' '615.4761904761905']\n",
      " ['B7' '620.9600997506234']\n",
      " ['C7' '632.5']]\n"
     ]
    }
   ],
   "source": [
    "################################\n",
    "################# Assign ranges\n",
    "full_key_list = final_labels_bl + final_labels_w\n",
    "full_key_list = sorted(full_key_list, key=lambda x: x[1].astype(float))\n",
    "# for ls in full_key_list: \n",
    "#     ls = ls.reverse()\n",
    "full_key_list = np.array(full_key_list)\n",
    "print(full_key_list)"
   ]
  },
  {
   "cell_type": "markdown",
   "metadata": {},
   "source": [
    "The code below maps the actual range for each discrete key.\n",
    "\n",
    "We know that black keys are skinnier than white keys, and we took the median width of the black keys above. For each black key, it's range is ***centroid - black_key_width/2 < x < centroid + black_key_width/2***.\n",
    "\n",
    "For white keys adjacent to black keys, the above axiom provides one of the bounds.\n",
    "\n",
    "For white keys adjacent to white keys, we simply take the mid-way point between their centroids as one of the bounds."
   ]
  },
  {
   "cell_type": "code",
   "execution_count": 10,
   "metadata": {
    "scrolled": true
   },
   "outputs": [],
   "source": [
    "test_list = np.empty([len(full_key_list), 2], dtype='object')\n",
    "\n",
    "for i in range(0,len(full_key_list)-1):\n",
    "    if len(full_key_list[i,0])==1 and len(full_key_list[i+1,0])>1: # White adjacent to black\n",
    "        test_list[i,1] = full_key_list[i+1,1].astype(float) - key_width_bl/2\n",
    "    elif len(full_key_list[i,0])>1: # Black key\n",
    "        test_list[i,1] = full_key_list[i,1].astype(float) + key_width_bl/2\n",
    "    else: # White key adjacent to white key\n",
    "        test_list[i,1] = (full_key_list[i,1].astype(float)+full_key_list[i+1,1].astype(float))/2\n",
    "    \n",
    "    # No change to the actual note (only the distances, above)\n",
    "    test_list[i,0] = full_key_list[i,0]\n",
    "\n",
    "#For the last key, just take it to infinity\n",
    "test_list[-1,1] = np.inf\n",
    "test_list[-1,0] = full_key_list[-1,0]\n",
    "\n",
    "full_key_list = test_list\n",
    "#print(full_key_list)"
   ]
  },
  {
   "cell_type": "markdown",
   "metadata": {},
   "source": [
    "The function below **inserts** any given value between our established key ranges. It returns an index where the given value *would* be inserted, which gives us our corresponding key pressed."
   ]
  },
  {
   "cell_type": "code",
   "execution_count": 11,
   "metadata": {},
   "outputs": [],
   "source": [
    "note, index = key_pressed(full_key_list, 999)\n",
    "# print(index)"
   ]
  },
  {
   "cell_type": "markdown",
   "metadata": {},
   "source": [
    "# 4. Testing with Notes"
   ]
  },
  {
   "cell_type": "code",
   "execution_count": 12,
   "metadata": {},
   "outputs": [
    {
     "data": {
      "image/png": "[encoded data removed]",
      "text/plain": [
       "<Figure size 432x288 with 1 Axes>"
      ]
     },
     "metadata": {
      "needs_background": "light"
     },
     "output_type": "display_data"
    }
   ],
   "source": [
    "#sample piano image from youtube\n",
    "img_notes = cv2.imread(\"synthesia_fg.png\")\n",
    "\n",
    "#converting to gray\n",
    "gray_notes = cv2.cvtColor(img_notes, cv2.COLOR_BGR2GRAY)\n",
    "img_notes_rgb = cv2.cvtColor(img_notes, cv2.COLOR_BGR2RGB)\n",
    "\n",
    "plt.imshow(img_notes_rgb)\n",
    "# plt.axis('off')\n",
    "plt.show()"
   ]
  },
  {
   "cell_type": "markdown",
   "metadata": {},
   "source": [
    "*y_cord[1]* is the position of the top of the keyboard. We calculated this using **half** the original image, so we need to add this back in.\n",
    "\n",
    "# I added it back paps =3"
   ]
  },
  {
   "cell_type": "code",
   "execution_count": 13,
   "metadata": {},
   "outputs": [
    {
     "data": {
      "text/plain": [
       "<matplotlib.image.AxesImage at 0x2480806af40>"
      ]
     },
     "execution_count": 13,
     "metadata": {},
     "output_type": "execute_result"
    },
    {
     "data": {
      "image/png": "[encoded data removed]",
      "text/plain": [
       "<Figure size 432x288 with 1 Axes>"
      ]
     },
     "metadata": {
      "needs_background": "light"
     },
     "output_type": "display_data"
    }
   ],
   "source": [
    "#Cropped\n",
    "top_keys_index = y_cord[1] + img_notes.shape[0]//2\n",
    "crop_img_notes = img_notes[20:(int(top_keys_index)-10)] #Crop the top 20 pixels and bottom 10\n",
    "\n",
    "plt.imshow(crop_img_notes)"
   ]
  },
  {
   "cell_type": "markdown",
   "metadata": {},
   "source": [
    "Identify notes."
   ]
  },
  {
   "cell_type": "code",
   "execution_count": 14,
   "metadata": {},
   "outputs": [
    {
     "data": {
      "image/png": "[encoded data removed]",
      "text/plain": [
       "<Figure size 720x720 with 1 Axes>"
      ]
     },
     "metadata": {
      "needs_background": "light"
     },
     "output_type": "display_data"
    }
   ],
   "source": [
    "crop_img_notes_gray = cv2.cvtColor(crop_img_notes, cv2.COLOR_BGR2GRAY)\n",
    "# # k = 3\n",
    "# # blurred = cv2.GaussianBlur(crop_img_notes_gray, (k,k), 0)\n",
    "\n",
    "# #Using standard threshold to create contrast between white/black keys\n",
    "# _, th_notes = cv2.threshold(blurred, 90, 150, cv2.THRESH_BINARY)\n",
    "\n",
    "_, th_notes = cv2.threshold(crop_img_notes_gray, 90, 150, cv2.THRESH_BINARY)\n",
    "\n",
    "plt.figure(figsize=(10,10))\n",
    "plt.imshow(th_notes, cmap = \"gray\")\n",
    "plt.show()"
   ]
  },
  {
   "cell_type": "code",
   "execution_count": 15,
   "metadata": {},
   "outputs": [
    {
     "data": {
      "image/png": "[encoded data removed]",
      "text/plain": [
       "<Figure size 720x720 with 1 Axes>"
      ]
     },
     "metadata": {
      "needs_background": "light"
     },
     "output_type": "display_data"
    }
   ],
   "source": [
    "#####################################################################################\n",
    "####### using connected component detection algorithm to separate all the black notes\n",
    "connectivity = 1\n",
    "output = cv2.connectedComponentsWithStats(th_notes, connectivity, cv2.CV_32S)\n",
    "num_labels = output[0]\n",
    "labels = output[1]\n",
    "stats = output[2]\n",
    "centroids = output[3]\n",
    "\n",
    "final_labels = []\n",
    "note_list = [] #creating a list of all the relavent notes. \n",
    "\n",
    "\n",
    "output = img_notes_rgb.copy()\n",
    "font = cv2.FONT_HERSHEY_SIMPLEX\n",
    "\n",
    "#For loop only used for displaying \n",
    "for i in range(1, num_labels):\n",
    "    x = stats[i, cv2.CC_STAT_LEFT]\n",
    "    y = stats[i, cv2.CC_STAT_TOP] + 20 # We cropped out the first 20 pixels\n",
    "    w = stats[i, cv2.CC_STAT_WIDTH]\n",
    "    h = stats[i, cv2.CC_STAT_HEIGHT]\n",
    "    area = stats[i, cv2.CC_STAT_AREA]\n",
    "    (cX, cY) = centroids[i]\n",
    "    cY = cY + 20 # We cropped out the first 20 pixels\n",
    "    if (20 < area < np.inf): #filtering out relavent detections (the ones big enough to be black keys)\n",
    "        final_labels.append(i)\n",
    "        cv2.rectangle(output, (x,y), (x+w, y+h), (255,0,0),1)\n",
    "        dist_to_edge = h/2 #getting the distance from centroid to bottom edge for better detection later on\n",
    "        cv2.circle(output, (int(cX), int(cY+dist_to_edge)), 1, (0,122,255), 3)\n",
    "        componentMask = (labels == i).astype(\"uint8\") * 255\n",
    "        \n",
    "        note = Note(cX, cY+dist_to_edge) #creating note object and adding to list\n",
    "        note_list.append(note)\n",
    "        \n",
    "        note_played, _ = key_pressed(full_key_list, note.centroid_x)\n",
    "        cv2.putText(output, note_played, (int(note.centroid_x), int(note.y_dot)), font, 0.5, (0,255,0), 1)\n",
    "\n",
    "#         display_img(\"Output\", output)\n",
    "#         display_img(\"Connected Component\", componentMask)\n",
    "#         cv2.waitKey(0)\n",
    "\n",
    "# print(final_labels)\n",
    "# cv2.destroyAllWindows()\n",
    "plt.figure(figsize=(10,10))\n",
    "plt.imshow(output)\n",
    "plt.show()"
   ]
  },
  {
   "cell_type": "code",
   "execution_count": 16,
   "metadata": {
    "scrolled": true,
    "tags": []
   },
   "outputs": [
    {
     "name": "stdout",
     "output_type": "stream",
     "text": [
      "0\n",
      "----------------------------------------------------------------------------------------------------\n",
      "0.06423982869379015\n",
      "----------------------------------------------------------------------------------------------------\n",
      "0.1284796573875803\n",
      "----------------------------------------------------------------------------------------------------\n",
      "0.19271948608137046\n",
      "----------------------------------------------------------------------------------------------------\n",
      "0.2569593147751606\n",
      "----------------------------------------------------------------------------------------------------\n",
      "0.32119914346895073\n",
      "----------------------------------------------------------------------------------------------------\n",
      "0.38543897216274087\n",
      "----------------------------------------------------------------------------------------------------\n",
      "0.449678800856531\n",
      "----------------------------------------------------------------------------------------------------\n",
      "0.5139186295503212\n",
      "----------------------------------------------------------------------------------------------------\n",
      "0.5781584582441114\n",
      "----------------------------------------------------------------------------------------------------\n",
      "0.6423982869379016\n",
      "----------------------------------------------------------------------------------------------------\n",
      "0.7066381156316918\n",
      "----------------------------------------------------------------------------------------------------\n",
      "0.770877944325482\n",
      "----------------------------------------------------------------------------------------------------\n",
      "0.8351177730192721\n",
      "----------------------------------------------------------------------------------------------------\n",
      "0.8993576017130623\n",
      "----------------------------------------------------------------------------------------------------\n",
      "0.9635974304068525\n",
      "----------------------------------------------------------------------------------------------------\n",
      "1.0278372591006426\n",
      "----------------------------------------------------------------------------------------------------\n",
      "A#4 at 1.0920770877944328\n",
      "1.0920770877944328\n",
      "----------------------------------------------------------------------------------------------------\n",
      "1.156316916488223\n",
      "----------------------------------------------------------------------------------------------------\n",
      "1.2205567451820132\n",
      "----------------------------------------------------------------------------------------------------\n",
      "1.2847965738758034\n",
      "----------------------------------------------------------------------------------------------------\n",
      "1.3490364025695936\n",
      "----------------------------------------------------------------------------------------------------\n",
      "1.4132762312633838\n",
      "----------------------------------------------------------------------------------------------------\n",
      "1.477516059957174\n",
      "----------------------------------------------------------------------------------------------------\n",
      "1.5417558886509641\n",
      "----------------------------------------------------------------------------------------------------\n",
      "1.6059957173447543\n",
      "----------------------------------------------------------------------------------------------------\n",
      "1.6702355460385445\n",
      "----------------------------------------------------------------------------------------------------\n",
      "1.7344753747323347\n",
      "----------------------------------------------------------------------------------------------------\n",
      "1.798715203426125\n",
      "----------------------------------------------------------------------------------------------------\n",
      "1.862955032119915\n",
      "----------------------------------------------------------------------------------------------------\n",
      "1.9271948608137053\n",
      "----------------------------------------------------------------------------------------------------\n",
      "1.9914346895074955\n",
      "----------------------------------------------------------------------------------------------------\n",
      "2.0556745182012857\n",
      "----------------------------------------------------------------------------------------------------\n",
      "2.119914346895076\n",
      "----------------------------------------------------------------------------------------------------\n",
      "2.184154175588866\n",
      "----------------------------------------------------------------------------------------------------\n",
      "2.2483940042826562\n",
      "----------------------------------------------------------------------------------------------------\n",
      "2.3126338329764464\n",
      "----------------------------------------------------------------------------------------------------\n",
      "2.3768736616702366\n",
      "----------------------------------------------------------------------------------------------------\n",
      "2.441113490364027\n",
      "----------------------------------------------------------------------------------------------------\n",
      "2.505353319057817\n",
      "----------------------------------------------------------------------------------------------------\n",
      "2.569593147751607\n",
      "----------------------------------------------------------------------------------------------------\n",
      "G4 at 2.6338329764453974\n",
      "D#1 at 2.6338329764453974\n",
      "2.6338329764453974\n",
      "----------------------------------------------------------------------------------------------------\n",
      "2.6980728051391876\n",
      "----------------------------------------------------------------------------------------------------\n",
      "2.7623126338329778\n",
      "----------------------------------------------------------------------------------------------------\n",
      "2.826552462526768\n",
      "----------------------------------------------------------------------------------------------------\n",
      "2.890792291220558\n",
      "----------------------------------------------------------------------------------------------------\n",
      "2.9550321199143483\n",
      "----------------------------------------------------------------------------------------------------\n",
      "3.0192719486081385\n",
      "----------------------------------------------------------------------------------------------------\n",
      "3.0835117773019287\n",
      "----------------------------------------------------------------------------------------------------\n",
      "3.147751605995719\n",
      "----------------------------------------------------------------------------------------------------\n",
      "3.211991434689509\n",
      "----------------------------------------------------------------------------------------------------\n",
      "3.2762312633832993\n",
      "----------------------------------------------------------------------------------------------------\n",
      "3.3404710920770895\n",
      "----------------------------------------------------------------------------------------------------\n",
      "3.4047109207708797\n",
      "----------------------------------------------------------------------------------------------------\n",
      "3.46895074946467\n",
      "----------------------------------------------------------------------------------------------------\n",
      "3.53319057815846\n",
      "----------------------------------------------------------------------------------------------------\n",
      "3.5974304068522502\n",
      "----------------------------------------------------------------------------------------------------\n",
      "3.6616702355460404\n",
      "----------------------------------------------------------------------------------------------------\n",
      "3.7259100642398306\n",
      "----------------------------------------------------------------------------------------------------\n",
      "3.790149892933621\n",
      "----------------------------------------------------------------------------------------------------\n",
      "3.854389721627411\n",
      "----------------------------------------------------------------------------------------------------\n",
      "3.918629550321201\n",
      "----------------------------------------------------------------------------------------------------\n",
      "3.9828693790149914\n",
      "----------------------------------------------------------------------------------------------------\n",
      "G2 at 4.047109207708782\n",
      "D#3 at 4.047109207708782\n",
      "4.047109207708782\n",
      "----------------------------------------------------------------------------------------------------\n",
      "4.111349036402571\n",
      "----------------------------------------------------------------------------------------------------\n",
      "4.175588865096361\n",
      "----------------------------------------------------------------------------------------------------\n",
      "4.239828693790151\n",
      "----------------------------------------------------------------------------------------------------\n",
      "4.304068522483941\n",
      "----------------------------------------------------------------------------------------------------\n",
      "4.36830835117773\n",
      "----------------------------------------------------------------------------------------------------\n",
      "4.43254817987152\n",
      "----------------------------------------------------------------------------------------------------\n",
      "4.49678800856531\n",
      "----------------------------------------------------------------------------------------------------\n",
      "4.5610278372590995\n",
      "----------------------------------------------------------------------------------------------------\n",
      "4.625267665952889\n",
      "----------------------------------------------------------------------------------------------------\n",
      "4.689507494646679\n",
      "----------------------------------------------------------------------------------------------------\n"
     ]
    },
    {
     "name": "stdout",
     "output_type": "stream",
     "text": [
      "4.753747323340469\n",
      "----------------------------------------------------------------------------------------------------\n",
      "4.8179871520342585\n",
      "----------------------------------------------------------------------------------------------------\n",
      "4.882226980728048\n",
      "----------------------------------------------------------------------------------------------------\n",
      "A#3 at 4.946466809421838\n",
      "D#3 at 4.946466809421838\n",
      "G3 at 4.946466809421838\n",
      "4.946466809421838\n",
      "----------------------------------------------------------------------------------------------------\n",
      "5.010706638115628\n",
      "----------------------------------------------------------------------------------------------------\n",
      "5.0749464668094175\n",
      "----------------------------------------------------------------------------------------------------\n",
      "5.139186295503207\n",
      "----------------------------------------------------------------------------------------------------\n",
      "5.203426124196997\n",
      "----------------------------------------------------------------------------------------------------\n",
      "5.267665952890787\n",
      "----------------------------------------------------------------------------------------------------\n",
      "5.3319057815845765\n",
      "----------------------------------------------------------------------------------------------------\n",
      "5.396145610278366\n",
      "----------------------------------------------------------------------------------------------------\n",
      "5.460385438972156\n",
      "----------------------------------------------------------------------------------------------------\n",
      "5.524625267665946\n",
      "----------------------------------------------------------------------------------------------------\n",
      "5.5888650963597355\n",
      "----------------------------------------------------------------------------------------------------\n",
      "5.653104925053525\n",
      "----------------------------------------------------------------------------------------------------\n",
      "5.717344753747315\n",
      "----------------------------------------------------------------------------------------------------\n",
      "5.781584582441105\n",
      "----------------------------------------------------------------------------------------------------\n",
      "D#2 at 5.8458244111348945\n",
      "5.8458244111348945\n",
      "----------------------------------------------------------------------------------------------------\n",
      "5.910064239828684\n",
      "----------------------------------------------------------------------------------------------------\n",
      "5.974304068522474\n",
      "----------------------------------------------------------------------------------------------------\n",
      "6.038543897216264\n",
      "----------------------------------------------------------------------------------------------------\n",
      "6.1027837259100535\n",
      "----------------------------------------------------------------------------------------------------\n"
     ]
    }
   ],
   "source": [
    "camera = cv2.VideoCapture('Nocturne Opus 9 No 2_trim.mp4')\n",
    "\n",
    "frames = camera.get(cv2.CAP_PROP_FRAME_COUNT)\n",
    "fps = camera.get(cv2.CAP_PROP_FPS)\n",
    "seconds_per_frame = fps/frames\n",
    "counter = 0\n",
    "\n",
    "notes_pressed = []\n",
    "\n",
    "keys_timed = []\n",
    "for x in full_key_list:\n",
    "    keys_timed.append([x[1]])\n",
    "\n",
    "\n",
    "keys_timed_update = []\n",
    "for x in full_key_list:\n",
    "    keys_timed_update.append([x[1]])\n",
    "\n",
    "\n",
    "while (camera.isOpened()):\n",
    "    print(counter)\n",
    "    print('-'*100)\n",
    "    \n",
    "    #grabbed is a boolean than tells us if there is a valid frame\n",
    "    (grabbed, frame) = camera.read()\n",
    "    \n",
    "    if not grabbed:\n",
    "        break\n",
    "\n",
    "    counter += seconds_per_frame\n",
    "        \n",
    "         \n",
    "    frame = imutils.resize(frame,width = keys.shape[1]) #resize or else it won't work\n",
    "    #print(frame.shape)\n",
    "    \n",
    "    crop_frame = frame[20:int(top_keys_index)-10] #Crop the top 20 pixels and bottom 10\n",
    "    \n",
    "    # threshold the cropped and grayed image\n",
    "    crop_frame_gray = cv2.cvtColor(crop_frame, cv2.COLOR_BGR2GRAY)\n",
    "    k = 3\n",
    "#     blurred = cv2.GaussianBlur(crop_frame_gray, (k,k), 0)\n",
    "    blurred = crop_frame_gray #No blur - will cause us to connect notes that shouldn;t be connected\n",
    "    _, th_crop_frame = cv2.threshold(blurred, 90, 150, cv2.THRESH_BINARY)\n",
    "\n",
    "    #####################################################################################\n",
    "    ####### using connected component detection algorithm to separate all the notes\n",
    "    connectivity = 1\n",
    "    output = cv2.connectedComponentsWithStats(th_crop_frame, connectivity, cv2.CV_32S)\n",
    "    num_labels = output[0]\n",
    "    labels = output[1]\n",
    "    stats = output[2]\n",
    "    centroids = output[3]\n",
    "\n",
    "    font = cv2.FONT_HERSHEY_SIMPLEX\n",
    "    output = frame.copy()\n",
    "\n",
    "    #For loop only used for displaying \n",
    "    for i in range(1, num_labels):\n",
    "        #print(counter)\n",
    "        x = stats[i, cv2.CC_STAT_LEFT]\n",
    "        y = stats[i, cv2.CC_STAT_TOP] + 20 # We cropped out the first 20 pixels\n",
    "        w = stats[i, cv2.CC_STAT_WIDTH]\n",
    "        h = stats[i, cv2.CC_STAT_HEIGHT]\n",
    "        area = stats[i, cv2.CC_STAT_AREA]\n",
    "        (cX, cY) = centroids[i]\n",
    "        cY = cY + 20 # We cropped out the first 20 pixels\n",
    "        if (25 < area < np.inf): #filtering out relavent detections (the ones big enough to be black keys)\n",
    "            cv2.rectangle(output, (x,y), (x+w, y+h), (255,0,0),1)\n",
    "            dist_to_edge = h/2 #getting the distance from centroid to bottom edge for better detection later on\n",
    "            top_dot = cY-dist_to_edge\n",
    "            bottom_dot = cY+dist_to_edge\n",
    "            cv2.circle(output, (int(cX), int(bottom_dot)), 1, (0,122,255), 3)\n",
    "            cv2.circle(output, (int(cX), int(top_dot)), 1, (0,122,255), 3)\n",
    "            \n",
    "            note = Note(cX, cY+dist_to_edge) #creating note object and adding to list\n",
    "            \n",
    "            \n",
    "            if ( (bottom_dot >= y_cord[0]) and (bottom_dot <= y_cord[0]+3) ):\n",
    "                note_played, index = key_pressed(full_key_list, cX)\n",
    "                print(str(note_played) + \" at \" + str(counter))\n",
    "#                 ind = keys_timed.index([note_played])\n",
    "                ind = index\n",
    "                keys_timed_update[ind].append([counter])\n",
    "\n",
    "            if ( (top_dot >= y_cord[0]) and (top_dot <= y_cord[0]+3) ):\n",
    "                note_played, index = key_pressed(full_key_list, cX)\n",
    "#                 ind = keys_timed.index([note_played])\n",
    "                ind = index\n",
    "                keys_timed_update[ind].append([counter])\n",
    "            \n",
    "            disp_note, _ = key_pressed(full_key_list, note.centroid_x)\n",
    "            cv2.putText(output, disp_note, (int(note.centroid_x), int(note.y_dot)), font, 0.5, (0,0,255), 1)\n",
    "\n",
    "\n",
    "    #notes_pressed.append([counter, note_played])\n",
    "    cv2.line(output, (0,int(y_cord[0]+0)),(keys.shape[1],int(y_cord[0]+0)),(0,0,255), 2)\n",
    "    #Show the frame + drawn rectangle\n",
    "    cv2.imshow(\"Video\", output)\n",
    "\n",
    "    #Can break early by pressing \"q\"\n",
    "    if cv2.waitKey(1) & 0xFF == ord(\"q\"):\n",
    "        break\n",
    "# print(keys_timed_update)    \n",
    "camera.release()\n",
    "cv2.destroyAllWindows()"
   ]
  },
  {
   "cell_type": "code",
   "execution_count": 17,
   "metadata": {},
   "outputs": [
    {
     "name": "stdout",
     "output_type": "stream",
     "text": [
      "[[8.538622129436327], [16.982352941176472], [22.376404494382022], [33.05955334987593], [39.01754385964912], [46.19106699751861], [53.94642857142857], [59.28947368421053], [69.7434554973822], [75.88414634146342], [82.96315789473684], [89.00588235294117], [95.35449735449735], [102.98830409356725], [108.37640449438203], [119.05955334987593], [125.01754385964912], [132.19106699751862], [139.486301369863, [2.6338329764453974], [3.2762312633832993]], [145.28947368421052], [155.7597911227154], [161.513698630137], [168.80099502487562], [175.0], [181.35449735449737], [188.98235294117646], [194.37640449438203], [205.0547263681592], [210.99418604651163], [218.15970515970517], [225.486301369863, [5.8458244111348945], [6.167023554603843]], [230.96009975062344], [241.7270341207349], [247.513698630137], [254.80099502487562, [4.047109207708782], [4.882226980728048]], [261.0], [267.3448275862069], [274.96449704142015, [4.946466809421838], [5.717344753747315]], [280.2894736842105], [290.7270341207349], [296.97633136094674], [304.16748768472905], [311.486301369863, [4.047109207708782], [4.882226980728048], [4.946466809421838], [5.717344753747315]], [316.9452736318408], [327.7105263157895], [333.513698630137], [340.80099502487565, [4.946466809421838], [5.717344753747315]], [346.99411764705883], [353.3448275862069], [360.486301369863, [1.0920770877944328], [2.441113490364027]], [366.2894736842105], [377.0547263681592], [382.5374149659864], [390.0], [397.4761904761905], [402.9551122194514], [413.7105263157895], [419.513698630137], [426.79551122194516, [2.6338329764453974]], [433.0115606936416], [439.3448275862069], [446.486301369863], [451.9452736318408], [462.7105263157895], [468.5034013605442], [476.0], [483.486301369863], [488.9452736318408], [499.7105263157895], [505.513698630137], [512.6472148541113], [519.0], [525.3386243386243], [532.486301369863], [537.9452736318408], [548.7105263157895], [554.513698630137], [561.9882903981264], [569.4896551724138], [574.9452736318408], [585.7105263157895], [591.513698630137], [598.6613756613757], [604.9941176470588], [611.3386243386243], [618.4761904761905], [623.9600997506234], [inf]]\n"
     ]
    }
   ],
   "source": [
    "print(keys_timed_update)"
   ]
  }
 ],
 "metadata": {
  "kernelspec": {
   "display_name": "Python (tf)",
   "language": "python",
   "name": "env_tensorflow"
  },
  "language_info": {
   "codemirror_mode": {
    "name": "ipython",
    "version": 3
   },
   "file_extension": ".py",
   "mimetype": "text/x-python",
   "name": "python",
   "nbconvert_exporter": "python",
   "pygments_lexer": "ipython3",
   "version": "3.8.5"
  }
 },
 "nbformat": 4,
 "nbformat_minor": 4
}
