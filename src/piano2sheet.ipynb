{
 "cells": [
  {
   "cell_type": "code",
   "execution_count": 435,
   "metadata": {},
   "outputs": [],
   "source": [
    "from cv2 import cv2\n",
    "import numpy as np\n",
    "from matplotlib import pyplot as plt"
   ]
  },
  {
   "cell_type": "code",
   "execution_count": 436,
   "metadata": {},
   "outputs": [],
   "source": [
    "# just  a function for printing images\n",
    "def display_img(title, img):\n",
    "    cv2.imshow(title, img)\n",
    "\n",
    "#Only considering sharps for now\n",
    "def getNextSharp(first_note):\n",
    "    if first_note == \"A#\":\n",
    "        return \"C#\"\n",
    "    elif first_note == \"C#\":\n",
    "        return \"D#\"\n",
    "    elif first_note == \"D#\":\n",
    "        return \"F#\"\n",
    "    elif first_note == \"F#\":\n",
    "        return \"G#\"\n",
    "    elif first_note == \"G#\":\n",
    "        return \"A#\"\n",
    "    \n",
    "\n",
    "#Flats\n",
    "def getNextFlat(first_note):\n",
    "    if first_note == \"B♭\":\n",
    "        return \"D♭\"\n",
    "    elif first_note == \"D♭\":\n",
    "        return \"E♭\"\n",
    "    elif first_note == \"E♭\":\n",
    "        return \"G♭\"\n",
    "    elif first_note == \"G♭\":\n",
    "        return \"A♭\"\n",
    "    elif first_note == \"A♭\":\n",
    "        return \"B♭\"\n",
    "      \n",
    "#White notes\n",
    "def getNextNote(first_note):\n",
    "    if first_note == \"A\":\n",
    "        return \"B\"\n",
    "    elif first_note == \"B\":\n",
    "        return \"C\"\n",
    "    elif first_note == \"C\":\n",
    "        return \"D\"\n",
    "    elif first_note == \"D\":\n",
    "        return \"E\"\n",
    "    elif first_note == \"E\":\n",
    "        return \"F\"\n",
    "    elif first_note == \"F\":\n",
    "        return \"G\"\n",
    "    elif first_note == \"G\":\n",
    "        return \"A\"\n"
   ]
  },
  {
   "cell_type": "markdown",
   "metadata": {},
   "source": [
    "## 1. Load image in"
   ]
  },
  {
   "cell_type": "markdown",
   "metadata": {},
   "source": [
    "Always start at the first frame - before ANY keys are clicked. This is because if a note is coloured on the keys themselves, our thresholding set-up doesn't work.\n",
    "\n",
    "**There is an issue when people have intros...**"
   ]
  },
  {
   "cell_type": "code",
   "execution_count": 437,
   "metadata": {
    "scrolled": false
   },
   "outputs": [
    {
     "data": {
      "image/png": "[encoded data removed]",
      "text/plain": [
       "<Figure size 432x288 with 1 Axes>"
      ]
     },
     "metadata": {
      "needs_background": "light"
     },
     "output_type": "display_data"
    }
   ],
   "source": [
    "#sample piano image from youtube\n",
    "img = cv2.imread(\"synthesia.png\")\n",
    "\n",
    "#converting to gray\n",
    "gray = cv2.cvtColor(img, cv2.COLOR_BGR2GRAY)\n",
    "img_rgb = cv2.cvtColor(img, cv2.COLOR_BGR2RGB)\n",
    "\n",
    "plt.imshow(img_rgb)\n",
    "plt.axis('off')\n",
    "plt.show()"
   ]
  },
  {
   "cell_type": "code",
   "execution_count": 438,
   "metadata": {
    "scrolled": true
   },
   "outputs": [
    {
     "data": {
      "image/png": "[encoded data removed]",
      "text/plain": [
       "<Figure size 720x720 with 1 Axes>"
      ]
     },
     "metadata": {
      "needs_background": "light"
     },
     "output_type": "display_data"
    }
   ],
   "source": [
    "#Assume that the keys are definitely in the bottom half of the image\n",
    "keys = img.copy()\n",
    "keys = keys[keys.shape[0]//2:,:]\n",
    "\n",
    "gray_keys = cv2.cvtColor(keys, cv2.COLOR_BGR2GRAY)\n",
    "\n",
    "#edge detection \n",
    "std_dev = 0\n",
    "k = 5\n",
    "t1 = 200\n",
    "t2 = 200\n",
    "\n",
    "blurred = cv2.GaussianBlur(gray_keys, (k,k), std_dev)\n",
    "edges = cv2.Canny(blurred, t1,t2, apertureSize = 3)\n",
    "\n",
    "##########################################\n",
    "### Using hough transform to identify lines \n",
    "lines = cv2.HoughLines(edges, 1, np.pi/180, 300)\n",
    "#empty list - will be added with pixels that correspond with \n",
    "#the lines generated by hough transform \n",
    "y_cord = []\n",
    "\n",
    "\n",
    "#iterating through lines\n",
    "for line in lines: \n",
    "    rho, theta = line[0]\n",
    "    a = np.cos(theta)\n",
    "    b = np.sin(theta)\n",
    "    x0 = a * rho\n",
    "    y0 = b * rho\n",
    "    y_cord.append(y0) #appending to list\n",
    "    x1 = int(x0 + 1500 * (-b))\n",
    "    y1 = int(y0 + 1500 * (a))\n",
    "    x2 = int(x0 - 1500 * (-b))\n",
    "    y2 = int(y0 - 1500 * (a))\n",
    "    cv2.line(keys, (x1,y1), (x2,y2), (0,255,0),2)\n",
    "\n",
    "# ***We only want to crop by TWO coordinates - will need to figure this out \n",
    "# #sorting list and getting rid of smallest value\n",
    "# y_cord.sort(reverse=True)\n",
    "# y_cord.pop()\n",
    "\n",
    "#cropping the image based on y_cord list\n",
    "crop_img = keys[int(y_cord[1])+20:int(y_cord[0])]\n",
    "crop_blur = cv2.cvtColor(crop_img, cv2.COLOR_BGR2GRAY)\n",
    "\n",
    "#Using standard threshold to create contrast between white/black keys\n",
    "_, th1 = cv2.threshold(crop_blur, 85, 150, cv2.THRESH_BINARY_INV)\n",
    "\n",
    "plt.figure(figsize=(10,10))\n",
    "plt.imshow(th1, cmap = \"gray\")\n",
    "plt.show()"
   ]
  },
  {
   "cell_type": "code",
   "execution_count": 439,
   "metadata": {
    "scrolled": false
   },
   "outputs": [
    {
     "name": "stdout",
     "output_type": "stream",
     "text": [
      "I count 36 black keys.\n"
     ]
    },
    {
     "data": {
      "image/png": "[encoded data removed]",
      "text/plain": [
       "<Figure size 720x720 with 1 Axes>"
      ]
     },
     "metadata": {
      "needs_background": "light"
     },
     "output_type": "display_data"
    }
   ],
   "source": [
    "#####################################################################################\n",
    "####### using connected component detection algorithm to separate all the black notes\n",
    "connectivity = 1\n",
    "output = cv2.connectedComponentsWithStats(th1, connectivity, cv2.CV_32S)\n",
    "num_labels = output[0]\n",
    "labels = output[1]\n",
    "stats = output[2]\n",
    "centroids = output[3]\n",
    "# print(centroids.shape)\n",
    "\n",
    "final_labels_bl = []\n",
    "\n",
    "output = crop_img.copy()\n",
    "\n",
    "#For loop only used for displaying \n",
    "for i in range(1, num_labels):\n",
    "#     if i == 0:\n",
    "#         text = \"examining component {}/{} (background)\".format(i + 1, num_labels)\n",
    "#     else:\n",
    "#         text = \"examining component {}/{}\".format(i+1, num_labels)\n",
    "\n",
    "#     print(\"[INFO] {}\".format(text))\n",
    "    x = stats[i, cv2.CC_STAT_LEFT]\n",
    "    y = stats[i, cv2.CC_STAT_TOP]\n",
    "    w = stats[i, cv2.CC_STAT_WIDTH]\n",
    "    h = stats[i, cv2.CC_STAT_HEIGHT]\n",
    "    area = stats[i, cv2.CC_STAT_AREA]\n",
    "    (cX, cY) = centroids[i]\n",
    "    if (100 < area < np.inf): #filtering out relavent detections (the ones big enough to be black keys)\n",
    "        final_labels_bl.append(i)\n",
    "        cv2.rectangle(output, (x,y), (x+w, y+h), (255,0,0),1)\n",
    "        cv2.circle(output, (int(cX), int(cY)), 4, (255,255,0), -1)\n",
    "        componentMask = (labels == i).astype(\"uint8\") * 255\n",
    "        display_img(\"Output\", output)\n",
    "        display_img(\"Connected Component\", componentMask)\n",
    "        cv2.waitKey(0)\n",
    "\n",
    "plt.figure(figsize=(10,10))\n",
    "plt.imshow(output)\n",
    "print(\"I count {} black keys.\".format(len(final_labels_bl)))\n",
    "\n",
    "# #just for visualization lol\n",
    "# for i in range(len(final_labels)):\n",
    "#     xc,yc = centroids[final_labels[i]]\n",
    "#     #x1 = stats[final_labels[i], cv2.CC_STAT_LEFT]\n",
    "#     #del_x = stats[final_labels[i], cv2.CC_STAT_WIDTH]\n",
    "#     #lol = cv2.line(img,(int(x1),0),(int(x1),900),(0,255,0),1)\n",
    "#     #lol = cv2.line(img,(int(x1+del_x),0),(int(x1+del_x),900),(0,255,0),1)\n",
    "#     lol = cv2.line(img,(int(xc),0),(int(xc),900),(0,0,255),1)\n",
    "#     cv2.imshow(\"lol\", lol)\n",
    "#     cv2.waitKey(0)\n",
    "    \n",
    "cv2.destroyAllWindows()"
   ]
  },
  {
   "cell_type": "markdown",
   "metadata": {},
   "source": [
    "# 2. Label Black Keys\n",
    "We don't need to do distance math anymore. If we detect 36 black keys, we know that the first black key is A#."
   ]
  },
  {
   "cell_type": "code",
   "execution_count": 440,
   "metadata": {
    "scrolled": true
   },
   "outputs": [],
   "source": [
    "# #Printing out the difference between black keys\n",
    "# #figure out someway to normalize this data so \n",
    "# #it works with all figures\n",
    "# difference = []\n",
    "# for i in range(len(final_labels)-1):\n",
    "#     x2,y2 = centroids[final_labels[i+1]]\n",
    "#     x1,y1 = centroids[final_labels[i]]\n",
    "#     diff = x2-x1\n",
    "#     difference.append(diff)\n",
    "#     print(diff)\n",
    "\n",
    "# #plotting distance between black keys vs centroids of all black keys\n",
    "# x_axis = []\n",
    "# for i in range(len(final_labels)-1):\n",
    "#     x = centroids[final_labels[i]][0]\n",
    "#     #print(x)\n",
    "#     x_axis.append(x)\n",
    "\n",
    "# plt.plot(x_axis, difference)\n",
    "# plt.show()"
   ]
  },
  {
   "cell_type": "code",
   "execution_count": 441,
   "metadata": {
    "scrolled": true
   },
   "outputs": [],
   "source": [
    "# #checking the difference for the next three notes to figure out\n",
    "# #which note is being played\n",
    "# ##########\n",
    "# #! JUST A PROTOTYPE - NEEDS TO BE WOKED ON\n",
    "# #right now it's hardcoded with numbers (40,20).. but needs to be normalized\n",
    "# #########\n",
    "# first_note = None\n",
    "# if (difference[0] > 20):\n",
    "#     if (difference[1] > 20):\n",
    "#         pass\n",
    "#     else:\n",
    "#         if (difference[2] > 20):\n",
    "#             first_note = 'A#'\n",
    "#             print(first_note)\n",
    "\n",
    "# black_key_dict = {}\n",
    "# for i in range(len(final_labels)):\n",
    "#     x = centroids[final_labels[i]][0]\n",
    "#     black_key_dict[x] = first_note\n",
    "#     first_note = getNextNote(first_note)\n",
    "\n",
    "# print(black_key_dict)"
   ]
  },
  {
   "cell_type": "markdown",
   "metadata": {},
   "source": [
    "*final_labels* is the 36 integer indices that tell us if the returned centroids are black keys. \n",
    "\n",
    "For example, if centroids returns 39 possible connected components, final_label is the list of 36 indices that we consider are black keys."
   ]
  },
  {
   "cell_type": "code",
   "execution_count": 442,
   "metadata": {},
   "outputs": [],
   "source": [
    "# #Label indices starting from A#\n",
    "# if len(final_labels_bl) == 36:\n",
    "#     first_note = \"A#\"\n",
    "#     black_key_dict = {}\n",
    "#     for i in range(len(final_labels_bl)):\n",
    "#         x = centroids[final_labels_bl[i]][0]\n",
    "#         black_key_dict[x] = first_note\n",
    "#         first_note = getNextSharp(first_note)\n",
    "        \n",
    "# tmp = img.copy()\n",
    "\n",
    "# #Labeling all the black keys\n",
    "# for centroid in black_key_dict:\n",
    "#     font = cv2.FONT_HERSHEY_SIMPLEX\n",
    "#     y = tmp.shape[0]*3//4\n",
    "#     lol = cv2.line(tmp,(int(centroid),0),(int(centroid),900),(0,0,255),1)\n",
    "#     lol = cv2.putText(tmp, black_key_dict[centroid], (int(centroid), y), font, 0.5, (0,255,0), 1)\n",
    "#     cv2.imshow(\"Label Sharps\", tmp)\n",
    "#     cv2.waitKey(0)\n",
    "    \n",
    "# cv2.destroyAllWindows()"
   ]
  },
  {
   "cell_type": "code",
   "execution_count": 443,
   "metadata": {},
   "outputs": [],
   "source": [
    "#TESTING LIST\n",
    "if len(final_labels_bl) == 36:\n",
    "    first_note = \"A#\"\n",
    "    black_key_list = []\n",
    "    for i in range(len(final_labels_bl)):\n",
    "        x = centroids[final_labels_bl[i]][0]\n",
    "        black_key_list.append([x,first_note])\n",
    "        first_note = getNextSharp(first_note)\n",
    "        \n",
    "sorted(black_key_list, key=lambda x: x[0])\n",
    "tmp = img.copy()\n",
    "\n",
    "#Labeling all the black keys\n",
    "for (centroid, note) in black_key_list:\n",
    "    font = cv2.FONT_HERSHEY_SIMPLEX\n",
    "    y = tmp.shape[0]*3//4\n",
    "    lol = cv2.line(tmp,(int(centroid),0),(int(centroid),900),(0,0,255),1)\n",
    "    lol = cv2.putText(tmp, note, (int(centroid), y), font, 0.5, (0,255,0), 1)\n",
    "    cv2.imshow(\"Label Sharps\", tmp)\n",
    "    cv2.waitKey(0)\n",
    "    \n",
    "cv2.destroyAllWindows()"
   ]
  },
  {
   "cell_type": "markdown",
   "metadata": {},
   "source": [
    "# 2. Label White Keys\n",
    "Testing white keys"
   ]
  },
  {
   "cell_type": "code",
   "execution_count": 444,
   "metadata": {},
   "outputs": [],
   "source": [
    "# ##white key labelling\n",
    "# #! NEED TO IMPLEMENT SPECIAL CONDITION FOR LAST WHITE KEYS \n",
    "# white_key_dict = {}\n",
    "# for i in range(len(final_labels)-1):\n",
    "#     x = centroids[final_labels[i]][0]\n",
    "\n",
    "#     if (difference[i] > 40):\n",
    "#         origin = x + difference[i]/2\n",
    "#         delta_x = difference[i]/4\n",
    "#         lol = cv2.line(img,(int(origin+delta_x),0), (int(origin+delta_x),900), (0,255,0),1)\n",
    "#         lol = cv2.line(img,(int(origin-delta_x),0), (int(origin-delta_x),900), (0,255,0),1)\n",
    "#         cv2.imshow(\"lol\", lol)\n",
    "#         cv2.waitKey(0)\n",
    "#     else:\n",
    "#         delta_x = difference[i]/2\n",
    "#         lol = cv2.line(img,(int(x+delta_x),0), (int(x+delta_x),900), (0,255,0),1)\n",
    "#         cv2.imshow(\"lol\", lol)\n",
    "#         cv2.waitKey(0)\n",
    "        \n",
    "# cv2.destroyAllWindows()"
   ]
  },
  {
   "cell_type": "code",
   "execution_count": 445,
   "metadata": {},
   "outputs": [],
   "source": [
    "# #Using standard threshold to create contrast between white/black keys\n",
    "# kernel = np.ones((24,1), np.uint8)\n",
    "# _, th2 = cv2.threshold(crop_blur, 1, 5, cv2.THRESH_BINARY + cv2.THRESH_OTSU)\n",
    "# d_im = cv2.dilate(th2, kernel, iterations=4)\n",
    "# e_im = cv2.erode(d_im, kernel, iterations=4)"
   ]
  },
  {
   "cell_type": "code",
   "execution_count": 446,
   "metadata": {
    "scrolled": true
   },
   "outputs": [
    {
     "name": "stdout",
     "output_type": "stream",
     "text": [
      "(53, 2)\n",
      "I count 52 white keys.\n"
     ]
    },
    {
     "data": {
      "image/png": "[encoded data removed]",
      "text/plain": [
       "<Figure size 720x720 with 1 Axes>"
      ]
     },
     "metadata": {
      "needs_background": "light"
     },
     "output_type": "display_data"
    }
   ],
   "source": [
    "#Find optimal threshold - from testing we realized that the returned threshold is too low\n",
    "import mahotas\n",
    "k = 7\n",
    "blurred = cv2.GaussianBlur(crop_blur, (k,k), 0)\n",
    "T = mahotas.thresholding.otsu(blurred)*1.3\n",
    "\n",
    "#We found the optimal threshold, now use it on our image\n",
    "th2 = crop_blur.copy()  #Copy grayscale image and modify the copy\n",
    "th2[th2>T] = 255     #Use Otsu's Threshold\n",
    "th2[th2<T] = 0\n",
    "# th2 = cv2.bitwise_not(th2) #Flips black-white\n",
    "\n",
    "\n",
    "\n",
    "#####################################################################################\n",
    "####### using connected component detection algorithm to separate all the black notes\n",
    "connectivity = 8\n",
    "output = cv2.connectedComponentsWithStats(th2, connectivity, cv2.CV_32S)\n",
    "num_labels = output[0]\n",
    "labels = output[1]\n",
    "stats = output[2]\n",
    "centroids = output[3]\n",
    "print(centroids.shape)\n",
    "\n",
    "final_labels_w = []\n",
    "\n",
    "output = crop_img.copy()\n",
    "\n",
    "#For loop only used for displaying \n",
    "for i in range(1, num_labels):\n",
    "    x = stats[i, cv2.CC_STAT_LEFT]\n",
    "    y = stats[i, cv2.CC_STAT_TOP]\n",
    "    w = stats[i, cv2.CC_STAT_WIDTH]\n",
    "    h = stats[i, cv2.CC_STAT_HEIGHT]\n",
    "    area = stats[i, cv2.CC_STAT_AREA]\n",
    "    (cX, cY) = centroids[i]\n",
    "    \n",
    "    if (100 < area < np.inf): #filtering out relavent detections (the ones big enough to be white keys)\n",
    "        final_labels_w.append(i)\n",
    "        cv2.rectangle(output, (x,y), (x+w, y+h), (255,0,0),1)\n",
    "        cv2.circle(output, (int(cX), int(cY)), 4, (255,255,0), -1)\n",
    "        componentMask = (labels == i).astype(\"uint8\") * 255\n",
    "#         display_img(\"Output\", output)\n",
    "#         display_img(\"Connected Component\", componentMask)\n",
    "#         cv2.waitKey(0)\n",
    "        \n",
    "# cv2.destroyAllWindows()\n",
    "print(\"I count {} white keys.\".format(len(final_labels_w)))\n",
    "\n",
    "plt.figure(figsize=(10,10))\n",
    "plt.imshow(output)\n",
    "plt.show()"
   ]
  },
  {
   "cell_type": "code",
   "execution_count": 447,
   "metadata": {},
   "outputs": [],
   "source": [
    "# #Label indices starting from A#\n",
    "# if len(final_labels_w) == 52:\n",
    "#     first_note = \"A\"\n",
    "#     white_key_dict = {}\n",
    "#     for i in range(len(final_labels_w)):\n",
    "#         x = centroids[final_labels_w[i]][0]\n",
    "#         white_key_dict[x] = first_note\n",
    "#         first_note = getNextNote(first_note)\n",
    "        \n",
    "# tmp = img.copy()\n",
    "\n",
    "# #Labeling all the black keys\n",
    "# for centroid in white_key_dict:\n",
    "#     font = cv2.FONT_HERSHEY_SIMPLEX\n",
    "#     y = tmp.shape[0]*3//4\n",
    "#     lol = cv2.line(tmp,(int(centroid),0),(int(centroid),900),(0,0,255),1)\n",
    "#     lol = cv2.putText(tmp, white_key_dict[centroid], (int(centroid), y), font, 0.5, (0,255,0), 1)\n",
    "#     cv2.imshow(\"Label Sharps\", tmp)\n",
    "#     cv2.waitKey(0)\n",
    "    \n",
    "# cv2.destroyAllWindows()"
   ]
  },
  {
   "cell_type": "code",
   "execution_count": 448,
   "metadata": {},
   "outputs": [],
   "source": [
    "#TESTING LIST\n",
    "if len(final_labels_w) == 52:\n",
    "    first_note = \"A\"\n",
    "    white_key_list = []\n",
    "    for i in range(len(final_labels_w)):\n",
    "        x = centroids[final_labels_w[i]][0]\n",
    "        white_key_list.append([x,first_note])\n",
    "        first_note = getNextNote(first_note)\n",
    "        \n",
    "sorted(white_key_list, key=lambda x: x[0])\n",
    "tmp = img.copy()\n",
    "\n",
    "#Labeling all the black keys\n",
    "for (centroid, note) in white_key_list:\n",
    "    font = cv2.FONT_HERSHEY_SIMPLEX\n",
    "    y = tmp.shape[0]*3//4\n",
    "    lol = cv2.line(tmp,(int(centroid),0),(int(centroid),900),(0,0,255),1)\n",
    "    lol = cv2.putText(tmp, note, (int(centroid), y), font, 0.5, (0,255,0), 1)\n",
    "    cv2.imshow(\"Label Notes\", tmp)\n",
    "    cv2.waitKey(0)\n",
    "    \n",
    "cv2.destroyAllWindows()"
   ]
  },
  {
   "cell_type": "markdown",
   "metadata": {},
   "source": [
    "# 3. Assign Ranges\n",
    "Order both the white and black keys together. \n",
    "\n",
    "For the range x:0 -> end, we assign a specify range to each key. For example, A: 0 - 10, A#: 10 - 15.\n",
    "\n",
    "Our assumption is that the centroid of the key played will land in a discrete range with no overlap/ambiguity."
   ]
  },
  {
   "cell_type": "code",
   "execution_count": 449,
   "metadata": {},
   "outputs": [],
   "source": [
    "full_key_list = black_key_list + white_key_list\n",
    "full_key_list = sorted(full_key_list, key=lambda x: x[0].astype(float))\n",
    "\n",
    "full_key_list = np.array(full_key_list)\n",
    "\n",
    "# full_key_list"
   ]
  },
  {
   "cell_type": "code",
   "execution_count": 450,
   "metadata": {},
   "outputs": [],
   "source": [
    "test_list = np.empty([len(full_key_list), 2], dtype='object')\n",
    "for i in range(0,len(full_key_list)):\n",
    "    if i == 0:\n",
    "        test_list[0,0] = '0'\n",
    "        test_list[0,1] = full_key_list[i,1]\n",
    "    else:\n",
    "        test_list[i,0] = (full_key_list[i,0].astype(float)+full_key_list[i-1,0].astype(float))/2\n",
    "        test_list[i,1] = full_key_list[i,1]\n",
    "\n",
    "\n",
    "full_key_list = test_list"
   ]
  },
  {
   "cell_type": "code",
   "execution_count": 451,
   "metadata": {},
   "outputs": [],
   "source": [
    "import bisect\n",
    "\n",
    "def key_pressed(key_list, key_index):\n",
    "    insertion_point = bisect.bisect_left(key_list[:,0].astype(float),key_index)\n",
    "    \n",
    "    if insertion_point >= len(key_list):\n",
    "        insertion_point = len(key_list)-1\n",
    "    print('You pressed the {} key.'.format(key_list[insertion_point,1]))"
   ]
  },
  {
   "cell_type": "code",
   "execution_count": 452,
   "metadata": {},
   "outputs": [
    {
     "name": "stdout",
     "output_type": "stream",
     "text": [
      "You pressed the G key.\n"
     ]
    }
   ],
   "source": [
    "key_pressed(full_key_list, 500)"
   ]
  },
  {
   "cell_type": "code",
   "execution_count": 460,
   "metadata": {},
   "outputs": [
    {
     "data": {
      "text/plain": [
       "[<matplotlib.lines.Line2D at 0x278ff0fdd30>]"
      ]
     },
     "execution_count": 460,
     "metadata": {},
     "output_type": "execute_result"
    },
    {
     "data": {
      "image/png": "[encoded data removed]",
      "text/plain": [
       "<Figure size 432x288 with 1 Axes>"
      ]
     },
     "metadata": {
      "needs_background": "light"
     },
     "output_type": "display_data"
    }
   ],
   "source": [
    "#Testing\n",
    "x = np.linspace(1,10)\n",
    "y = x**2\n",
    "\n",
    "plt.plot(x,y)"
   ]
  }
 ],
 "metadata": {
  "kernelspec": {
   "display_name": "Python (tf)",
   "language": "python",
   "name": "env_tensorflow"
  },
  "language_info": {
   "codemirror_mode": {
    "name": "ipython",
    "version": 3
   },
   "file_extension": ".py",
   "mimetype": "text/x-python",
   "name": "python",
   "nbconvert_exporter": "python",
   "pygments_lexer": "ipython3",
   "version": "3.8.5"
  }
 },
 "nbformat": 4,
 "nbformat_minor": 4
}
